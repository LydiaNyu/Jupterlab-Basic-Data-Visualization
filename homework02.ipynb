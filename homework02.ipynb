{
 "cells": [
  {
   "cell_type": "markdown",
   "id": "501c58c6",
   "metadata": {},
   "source": [
    "# Homework 03"
   ]
  },
  {
   "cell_type": "markdown",
   "id": "ed0a2e5b",
   "metadata": {},
   "source": [
    "\n",
    "## Part 1 - Questions\n",
    "\n",
    "### Question 1: \n",
    "\n",
    "TODO (write the question)\n",
    "\n",
    "* Who (population): the top streamers\n",
    "* What (subject, discipline): Stream time statistics\n",
    "* Where (location): Twitch\n",
    "* When (snapshot, longitudinal): in the past year \n",
    "* How much data do you need to do the analysis/work: 1000 top streamers and their relevant data\n",
    "\n",
    "### Question 2: \n",
    "\n",
    "TODO (write the question)\n",
    "\n",
    "* Who (population): the top streamers\n",
    "* What (subject, discipline): language distribution\n",
    "* Where (location): Twitch\n",
    "* When (snapshot, longitudinal): in the past year\n",
    "* How much data do you need to do the analysis/work: 1000 top streamers and their relevant data\n",
    "\n",
    "### Who Might Collect Relevant Data / What Articles or Publications Cite a Relevant Data Set?\n",
    "\n",
    "The employees in the twitch."
   ]
  },
  {
   "cell_type": "markdown",
   "id": "9b23f7db",
   "metadata": {},
   "source": [
    "## Part 2 - Selecting a Data Set, Adding Documentation\n",
    "\n",
    "\n",
    "\n",
    "1. Name / Title: twitchdata-update.csv\n",
    "2. Link to Data: https://www.kaggle.com/aayushmishra1512/twitchdata\n",
    "3. Source / Origin: \n",
    "\t* Author or Creator: Aayush Mishra\n",
    "\t* Publication Date: updated a year ago\n",
    "\t* Publisher: Aayush Mishra\n",
    "\t* Version or Data Accessed: 3\n",
    "4. License: CC0: Public Domain\n",
    "5. Can You Use this Data Set for Your Intended Use Case? (TODO answer this question)"
   ]
  },
  {
   "cell_type": "markdown",
   "id": "c46c3981",
   "metadata": {},
   "source": [
    "## Format\n",
    "\n"
   ]
  },
  {
   "cell_type": "markdown",
   "id": "85a55c21",
   "metadata": {},
   "source": [
    "\n",
    "### Overview\n",
    "\n",
    "* Format: csv\n",
    "* Size: 79 KB\n",
    "* Number of Records: 1000\n",
    "\n"
   ]
  },
  {
   "cell_type": "markdown",
   "id": "8e373902",
   "metadata": {},
   "source": [
    "### Sample of Data\n",
    "\n",
    "\n"
   ]
  },
  {
   "cell_type": "code",
   "execution_count": 7,
   "id": "8ddb0e26",
   "metadata": {},
   "outputs": [
    {
     "name": "stdout",
     "output_type": "stream",
     "text": [
      "Channel,Watch time(Minutes),Stream time(minutes),Peak viewers,Average viewers,Followers,Followers gained,Views gained,Partnered,Mature,Language\n",
      "\n",
      "xQcOW,6196161750,215250,222720,27716,3246298,1734810,93036735,TRUE,FALSE,English\n",
      "\n",
      "summit1g,6091677300,211845,310998,25610,5310163,1370184,89705964,TRUE,FALSE,English\n",
      "\n",
      "Gaules,5644590915,515280,387315,10976,1767635,1023779,102611607,TRUE,TRUE,Portuguese\n",
      "\n",
      "ESL_CSGO,3970318140,517740,300575,7714,3944850,703986,106546942,TRUE,FALSE,English\n",
      "\n",
      "Tfue,3671000070,123660,285644,29602,8938903,2068424,78998587,TRUE,FALSE,English\n",
      "\n",
      "Asmongold,3668799075,82260,263720,42414,1563438,554201,61715781,TRUE,FALSE,English\n",
      "\n",
      "NICKMERCS,3360675195,136275,115633,24181,4074287,1089824,46084211,TRUE,FALSE,English\n",
      "\n",
      "Fextralife,3301867485,147885,68795,18985,508816,425468,670137548,TRUE,FALSE,English\n",
      "\n",
      "loltyler1,2928356940,122490,89387,22381,3530767,951730,51349926,TRUE,FALSE,English\n",
      "\n"
     ]
    }
   ],
   "source": [
    "# TODO show a few lines of data from the actual file\n",
    "\n",
    "# Use \"regular\" Python to do this in this code block\n",
    "# Assume that jupyter-lab was started in your root directory\n",
    "# with open('./data/raw/example-data.csv', 'r'): \n",
    "\n",
    "with open('../data/raw/twitchdata-update.csv', 'r') as f:\n",
    "    count = 0\n",
    "    # loop over a file, line-by-line\n",
    "    for line in f:\n",
    "        if(count<10):\n",
    "            print(line)\n",
    "            count+=1"
   ]
  },
  {
   "cell_type": "markdown",
   "id": "58879798",
   "metadata": {},
   "source": [
    "\n",
    "### Fields or Column Headers\n",
    "\n",
    "* Field/Column 1: Channel: str\n",
    "* Field/Column 2: Watch Time: int\n",
    "* Field/Column 3: Stream time : int\n",
    "* Field/Column 4: Peak viewers: int\n",
    "* Field/Column 5: Average viewers : int\n",
    "* Field/Column 6: Followers : int\n",
    "* Field/Column 7: Followers gained : int\n",
    "* Field/Column 8: Views gained: int\n",
    "* Field/Column 9: Partnered: bool\n",
    "* Field/Column 10: Mature : bool\n",
    "* Field/Column 11: Language : String\n"
   ]
  },
  {
   "cell_type": "markdown",
   "id": "9517583c",
   "metadata": {},
   "source": [
    "## Part 3 - Extract / Transform\n",
    "\n",
    "TODO describe your process for extracting, transforming, cleaning your incoming data:\n",
    "\n",
    "* what columns you'll be using (extracting) from your dataset\n",
    "I would extract: \n",
    "                 Field/Column 1: Channel: str\n",
    "                 Field/Column 3: Stream time : int\n",
    "                 Field/Column 11: Language : String\n",
    "* how you're planning to convert the data into analogous python types / how you'll deal with type issues (for example, you may want a column that's numeric, but the data contains a label, such as 4 months) \n",
    "\n",
    "I would just use split method for each row and then transform the first, third, and 11th elements to str, int, str types.\n",
    "\n",
    "Since Lanuage is the last column, so there will have '\\n'after each word, I will use str.replace('\\n','') to remove it.\n",
    "* any other kind of cleaning (_normalizing_ data, filling in missing values, etc.) that you'll have to perform\n",
    "\n"
   ]
  },
  {
   "cell_type": "code",
   "execution_count": 16,
   "id": "007fe827",
   "metadata": {},
   "outputs": [],
   "source": [
    "# TODO write code here!\n",
    "channelNames = []\n",
    "streamtime = []\n",
    "languageSum = []\n",
    "with open('../data/raw/twitchdata-update.csv', 'r') as f:\n",
    "    next(f)\n",
    "    # loop over a file, line-by-line\n",
    "    for line in f:\n",
    "        lineparts = line.split(',')\n",
    "        channelNames.append(lineparts[0])\n",
    "        streamtime.append(int(lineparts[2]))\n",
    "        lineparts[10]=lineparts[10].replace('\\n', '')\n",
    "        languageSum.append(lineparts[10])"
   ]
  },
  {
   "cell_type": "markdown",
   "id": "da039b28",
   "metadata": {},
   "source": [
    "## Part 4 - Descriptive Statistics\n",
    "\n",
    "### Analysis on Numeric Data\n",
    "\n",
    "#### Central Tendency\n",
    "\n"
   ]
  },
  {
   "cell_type": "code",
   "execution_count": 26,
   "id": "95d005da",
   "metadata": {},
   "outputs": [
    {
     "name": "stdout",
     "output_type": "stream",
     "text": [
      "The mean of stream time of top 1000 streamers in twitch is 120515.16\n",
      "The median of stream time of top 1000 streamers in twitch is 108240.0\n"
     ]
    }
   ],
   "source": [
    "# TODO: copy and paste your results here\n",
    "import numpy as np\n",
    "a = np.array(streamtime)\n",
    "print('The mean of stream time of top 1000 streamers in twitch is', np.mean(a))\n",
    "print('The median of stream time of top 1000 streamers in twitch is', np.median(a))"
   ]
  },
  {
   "cell_type": "markdown",
   "id": "8a7eed93",
   "metadata": {},
   "source": [
    "#### Dispersion"
   ]
  },
  {
   "cell_type": "code",
   "execution_count": 27,
   "id": "7f02b6aa",
   "metadata": {},
   "outputs": [
    {
     "name": "stdout",
     "output_type": "stream",
     "text": [
      "The variance of stream time of top 1000 streamers in twitch is 7281806663.6244\n"
     ]
    }
   ],
   "source": [
    "# TODO: copy and paste your results here\n",
    "print('The variance of stream time of top 1000 streamers in twitch is', np.var(a))"
   ]
  },
  {
   "cell_type": "markdown",
   "id": "064afa22",
   "metadata": {},
   "source": [
    "#### Outliers\n"
   ]
  },
  {
   "cell_type": "code",
   "execution_count": 34,
   "id": "8ba2d959",
   "metadata": {},
   "outputs": [
    {
     "name": "stdout",
     "output_type": "stream",
     "text": [
      "The minimal stream time of top 1000 streamers in twitch is 3465\n",
      "The maximual stream time of top 1000 streamers in twitch is 521445\n",
      "The range of the stream time of top 1000 streamers in twitch is 517980\n"
     ]
    }
   ],
   "source": [
    "# TODO: copy and paste your results here\n",
    "print('The minimal stream time of top 1000 streamers in twitch is', np.min(a))\n",
    "print('The maximual stream time of top 1000 streamers in twitch is', np.max(a))\n",
    "print('The range of the stream time of top 1000 streamers in twitch is', np.max(a)-np.min(a))"
   ]
  },
  {
   "cell_type": "markdown",
   "id": "e20ca7db",
   "metadata": {},
   "source": [
    "#### Other\n"
   ]
  },
  {
   "cell_type": "code",
   "execution_count": 29,
   "id": "aac94dc9",
   "metadata": {},
   "outputs": [],
   "source": [
    "# TODO: copy and paste your results here"
   ]
  },
  {
   "cell_type": "markdown",
   "id": "89a52b4c",
   "metadata": {},
   "source": [
    "###  Analysis on Categorical Data"
   ]
  },
  {
   "cell_type": "markdown",
   "id": "6eb5a86f",
   "metadata": {},
   "source": [
    "#### Frequency"
   ]
  },
  {
   "cell_type": "code",
   "execution_count": 30,
   "id": "3a020e9a",
   "metadata": {},
   "outputs": [
    {
     "name": "stdout",
     "output_type": "stream",
     "text": [
      "{'English': 485, 'Portuguese': 61, 'Spanish': 68, 'German': 49, 'Korean': 77, 'French': 66, 'Russian': 74, 'Japanese': 10, 'Chinese': 30, 'Czech': 6, 'Turkish': 22, 'Italian': 17, 'Polish': 12, 'Thai': 11, 'Arabic': 5, 'Slovak': 1, 'Other': 1, 'Hungarian': 2, 'Greek': 1, 'Finnish': 1, 'Swedish': 1}\n"
     ]
    }
   ],
   "source": [
    "# TODO: copy and paste your results here\n",
    "counts = {}\n",
    "for lan in languageSum:\n",
    "    if lan in counts:\n",
    "        counts[lan] += 1\n",
    "    else:\n",
    "        counts[lan] = 1\n",
    "print(counts)"
   ]
  },
  {
   "cell_type": "markdown",
   "id": "aedd7991",
   "metadata": {},
   "source": [
    "#### Unique Values"
   ]
  },
  {
   "cell_type": "code",
   "execution_count": 33,
   "id": "44a724bc",
   "metadata": {},
   "outputs": [
    {
     "name": "stdout",
     "output_type": "stream",
     "text": [
      "['Arabic' 'Chinese' 'Czech' 'English' 'Finnish' 'French' 'German' 'Greek'\n",
      " 'Hungarian' 'Italian' 'Japanese' 'Korean' 'Other' 'Polish' 'Portuguese'\n",
      " 'Russian' 'Slovak' 'Spanish' 'Swedish' 'Thai' 'Turkish']\n"
     ]
    }
   ],
   "source": [
    "# TODO: copy and paste your results here\n",
    "l = np.unique(languageSum)\n",
    "print(l)"
   ]
  },
  {
   "cell_type": "markdown",
   "id": "9ea4851e",
   "metadata": {},
   "source": [
    "## Part 5 - Visualizations\n",
    "\n"
   ]
  },
  {
   "cell_type": "code",
   "execution_count": 43,
   "id": "9fe6b52a",
   "metadata": {},
   "outputs": [
    {
     "data": {
      "image/png": "[encoded data removed]",
      "text/plain": [
       "<Figure size 432x288 with 1 Axes>"
      ]
     },
     "metadata": {
      "needs_background": "light"
     },
     "output_type": "display_data"
    }
   ],
   "source": [
    "# TODO: add visualizations here\n",
    "import matplotlib.pyplot as plt\n",
    "x = np.arange(1,1001)\n",
    "plt.ylabel('Stream Time')\n",
    "plt.xlabel('top ranking 1000 streamers')\n",
    "plt.plot(x,a)\n",
    "plt.show()"
   ]
  },
  {
   "cell_type": "code",
   "execution_count": 48,
   "id": "3dd92c0c-d3f8-4378-9752-a2410587c228",
   "metadata": {},
   "outputs": [
    {
     "data": {
      "image/png": "[encoded data removed]",
      "text/plain": [
       "<Figure size 432x288 with 1 Axes>"
      ]
     },
     "metadata": {
      "needs_background": "light"
     },
     "output_type": "display_data"
    }
   ],
   "source": [
    "lista = list(counts.values())\n",
    "listb = list(counts.keys())\n",
    "plt.bar(np.arange(6), lista[:6], align='center', color='#aaddff')\n",
    "plt.xticks(np.arange(6), listb[:6] )\n",
    "plt.ylabel('number')\n",
    "plt.xlabel('language')\n",
    "plt.title('Which lanuage top 1000 streamers use?')\n",
    "plt.show()"
   ]
  },
  {
   "cell_type": "markdown",
   "id": "0044839a",
   "metadata": {},
   "source": [
    "TODO Describe the visualizations in the previous cell\n",
    "The first visualization plots the stream time from the top 1 streamer to top 1000 streamer\n",
    "The second visualization plots how many top 1000 streamers respectively use English, Portuguese, Spanish, German, Korean, French."
   ]
  },
  {
   "cell_type": "markdown",
   "id": "64114605",
   "metadata": {},
   "source": [
    "## Part 6 - Conclusion\n",
    "\n",
    "TODO: write your conclusion here (interpret results of calculations; does it help answer your original questions?)\n",
    "\n",
    "The above analysis the top 1000 streamers'stream time statistics. It is clear that top 1000 streamers will all stream more than 3000 minutes, but less than 521445 minutes. The mean stream time of top streamers is around 12000 minutes. It implys that in order to become top streamers, it is required to stream a substantial amount of time, but the stream time varies  And according the visualization 1, we could know that the stream time and the ranking in streamers do not have a direct relation. Streaming a lot does not mean someone will become top streamers.\n",
    "\n",
    "The distribution of lanuage in visualization 2 shows that English is the major language among top streamers in twitch, and there still exist many other streamers using other language.\n",
    "\n",
    "They are able to answer my questions about the stream time statistics and language use distribution in twitch top streamers. "
   ]
  }
 ],
 "metadata": {
  "kernelspec": {
   "display_name": "Python 3",
   "language": "python",
   "name": "python3"
  },
  "language_info": {
   "codemirror_mode": {
    "name": "ipython",
    "version": 3
   },
   "file_extension": ".py",
   "mimetype": "text/x-python",
   "name": "python",
   "nbconvert_exporter": "python",
   "pygments_lexer": "ipython3",
   "version": "3.8.8"
  }
 },
 "nbformat": 4,
 "nbformat_minor": 5
}
